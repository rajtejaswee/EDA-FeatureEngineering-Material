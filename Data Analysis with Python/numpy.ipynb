{
 "cells": [
  {
   "cell_type": "markdown",
   "metadata": {},
   "source": [
    "### Numpy"
   ]
  },
  {
   "cell_type": "markdown",
   "metadata": {},
   "source": [
    "NumPy is a fundamental library for scientific computing in Python. It provides support for arrays and matrices, along with a collection of mathematical functions to operate on these data structures. In this lesson, we will cover the basics of NumPy, focusing on arrays and vectorized operations."
   ]
  },
  {
   "cell_type": "code",
   "execution_count": 1,
   "metadata": {},
   "outputs": [
    {
     "name": "stdout",
     "output_type": "stream",
     "text": [
      "Requirement already satisfied: numpy in /Users/rajtejaswee/EDA-FeatureEngineering-Material/venv/lib/python3.12/site-packages (2.2.4)\n"
     ]
    }
   ],
   "source": [
    "!pip install numpy"
   ]
  },
  {
   "cell_type": "code",
   "execution_count": 2,
   "metadata": {},
   "outputs": [],
   "source": [
    "import numpy as np"
   ]
  },
  {
   "cell_type": "code",
   "execution_count": null,
   "metadata": {},
   "outputs": [
    {
     "name": "stdout",
     "output_type": "stream",
     "text": [
      "[1 2 3 4 5]\n",
      "<class 'numpy.ndarray'>\n",
      "(5,)\n",
      "1\n",
      "int64\n",
      "5\n",
      "8\n"
     ]
    }
   ],
   "source": [
    "## create a 1D array\n",
    "a = np.array([1, 2, 3, 4, 5])\n",
    "print(a)\n",
    "print(type(a))\n",
    "print(a.shape) # shape of the array\n",
    "print(a.ndim) # number of dimensions\n",
    "print(a.dtype) # data type\n",
    "print(a.size) # total number of elements\n",
    "print(a.itemsize) # size of each element in bytes"
   ]
  },
  {
   "cell_type": "code",
   "execution_count": 4,
   "metadata": {},
   "outputs": [
    {
     "name": "stdout",
     "output_type": "stream",
     "text": [
      "[2 4 5 6 7]\n",
      "(5,)\n"
     ]
    }
   ],
   "source": [
    "arr2 = np.array([2,4,5,6,7])\n",
    "print(arr2)\n",
    "print(arr2.shape)"
   ]
  },
  {
   "cell_type": "code",
   "execution_count": 5,
   "metadata": {},
   "outputs": [
    {
     "name": "stdout",
     "output_type": "stream",
     "text": [
      "[[2]\n",
      " [4]\n",
      " [5]\n",
      " [6]\n",
      " [7]]\n",
      "(5, 1)\n"
     ]
    }
   ],
   "source": [
    "## reshape it\n",
    "arr2 = arr2.reshape(5,1)\n",
    "print(arr2)\n",
    "print(arr2.shape)"
   ]
  },
  {
   "cell_type": "code",
   "execution_count": 7,
   "metadata": {},
   "outputs": [
    {
     "name": "stdout",
     "output_type": "stream",
     "text": [
      "[[1 2 3]\n",
      " [4 5 6]]\n",
      "<class 'numpy.ndarray'>\n",
      "(2, 3)\n",
      "2\n"
     ]
    }
   ],
   "source": [
    "## create a 2D array    \n",
    "arr2 = np.array([[1, 2, 3], [4, 5, 6]])\n",
    "print(arr2)\n",
    "print(type(arr2))\n",
    "print(arr2.shape)\n",
    "print(arr2.ndim)"
   ]
  },
  {
   "cell_type": "code",
   "execution_count": 8,
   "metadata": {},
   "outputs": [
    {
     "name": "stdout",
     "output_type": "stream",
     "text": [
      "[[0]\n",
      " [2]\n",
      " [4]\n",
      " [6]\n",
      " [8]]\n"
     ]
    }
   ],
   "source": [
    "## Inbuilt functions to create arrays\n",
    "arr3 = np.arange(0,10,2).reshape(5,1)\n",
    "print(arr3)"
   ]
  },
  {
   "cell_type": "code",
   "execution_count": 10,
   "metadata": {},
   "outputs": [
    {
     "data": {
      "text/plain": [
       "array([[1., 1., 1., 1.],\n",
       "       [1., 1., 1., 1.],\n",
       "       [1., 1., 1., 1.]])"
      ]
     },
     "execution_count": 10,
     "metadata": {},
     "output_type": "execute_result"
    }
   ],
   "source": [
    "np.ones((3,4))"
   ]
  },
  {
   "cell_type": "code",
   "execution_count": 11,
   "metadata": {},
   "outputs": [
    {
     "data": {
      "text/plain": [
       "array([[0., 0., 0., 0.],\n",
       "       [0., 0., 0., 0.],\n",
       "       [0., 0., 0., 0.]])"
      ]
     },
     "execution_count": 11,
     "metadata": {},
     "output_type": "execute_result"
    }
   ],
   "source": [
    "np.zeros((3,4))"
   ]
  },
  {
   "cell_type": "code",
   "execution_count": 12,
   "metadata": {},
   "outputs": [
    {
     "data": {
      "text/plain": [
       "array([[1., 0., 0.],\n",
       "       [0., 1., 0.],\n",
       "       [0., 0., 1.]])"
      ]
     },
     "execution_count": 12,
     "metadata": {},
     "output_type": "execute_result"
    }
   ],
   "source": [
    "np.eye(3)"
   ]
  },
  {
   "cell_type": "code",
   "execution_count": 13,
   "metadata": {},
   "outputs": [
    {
     "name": "stdout",
     "output_type": "stream",
     "text": [
      "[5 7 9]\n",
      "[-3 -3 -3]\n",
      "[ 4 10 18]\n",
      "[0.25 0.4  0.5 ]\n",
      "[1 4 9]\n"
     ]
    }
   ],
   "source": [
    "## Vectorized operations\n",
    "a = np.array([1, 2, 3])\n",
    "b = np.array([4, 5, 6])\n",
    "print(a + b) # addition\n",
    "print(a - b) # subtraction\n",
    "print(a * b) # multiplication\n",
    "print(a / b) # division\n",
    "print(a ** 2) # power"
   ]
  },
  {
   "cell_type": "code",
   "execution_count": 14,
   "metadata": {},
   "outputs": [
    {
     "name": "stdout",
     "output_type": "stream",
     "text": [
      "[5 7 9]\n",
      "[-3 -3 -3]\n",
      "[ 4 10 18]\n",
      "[0.25 0.4  0.5 ]\n",
      "[1 4 9]\n",
      "[1.         1.41421356 1.73205081]\n",
      "[ 2.71828183  7.3890561  20.08553692]\n",
      "[0.         0.69314718 1.09861229]\n",
      "[-0.7568025  -0.95892427 -0.2794155 ]\n",
      "[ 0.54030231 -0.41614684 -0.9899925 ]\n"
     ]
    }
   ],
   "source": [
    "# Universal functions\n",
    "a = np.array([1, 2, 3])\n",
    "b = np.array([4, 5, 6])\n",
    "print(np.add(a, b)) # addition\n",
    "print(np.subtract(a, b)) # subtraction\n",
    "print(np.multiply(a, b)) # multiplication\n",
    "print(np.divide(a, b)) # division\n",
    "print(np.power(a, 2)) # power\n",
    "print(np.sqrt(a)) # square root\n",
    "print(np.exp(a)) # exponential\n",
    "print(np.log(a)) # logarithm\n",
    "print(np.sin(b)) # sine\n",
    "print(np.cos(a)) # cosine"
   ]
  },
  {
   "cell_type": "code",
   "execution_count": 16,
   "metadata": {},
   "outputs": [
    {
     "name": "stdout",
     "output_type": "stream",
     "text": [
      "[[1 2 3]\n",
      " [4 5 6]\n",
      " [7 8 9]]\n",
      "[1 2 3]\n",
      "2\n",
      "[4 5 6]\n",
      "[2 5 8]\n",
      "[[4 5]\n",
      " [7 8]]\n",
      "[[4 5 6]\n",
      " [7 8 9]]\n",
      "[[2 3]\n",
      " [5 6]\n",
      " [8 9]]\n",
      "[[2 3]\n",
      " [5 6]]\n"
     ]
    }
   ],
   "source": [
    "# array slicing and indexing\n",
    "a = np.array([[1, 2, 3], [4, 5, 6], [7, 8, 9]])\n",
    "print(a)\n",
    "print(a[0]) # access first row\n",
    "print(a[0, 1]) # access element at row 0, column 1\n",
    "print(a[1, :]) # access row 1\n",
    "print(a[:, 1]) # access column 1\n",
    "print(a[1:3, 0:2]) # access sub-array\n",
    "print(a[1:3, :]) # access sub-array\n",
    "print(a[:, 1:3]) # access sub-array\n",
    "print(a[0:2, 1:3]) # access sub-array"
   ]
  },
  {
   "cell_type": "code",
   "execution_count": 18,
   "metadata": {},
   "outputs": [
    {
     "name": "stdout",
     "output_type": "stream",
     "text": [
      "[1 2 3]\n",
      "Mean:  2.0\n",
      "Std:  0.816496580927726\n",
      "[-1.22474487  0.          1.22474487]\n",
      "0.9999999999999999\n"
     ]
    }
   ],
   "source": [
    "# Statistical concepts - Normalization\n",
    "# to have mean = 0 and std = 1\n",
    "a = np.array([1, 2, 3])\n",
    "print(a)\n",
    "print(\"Mean: \", a.mean())\n",
    "print(\"Std: \", a.std())\n",
    "a = (a - a.mean()) / a.std()\n",
    "print(a) # normalized array \n",
    "print(a.var()) # variance\n"
   ]
  },
  {
   "cell_type": "code",
   "execution_count": null,
   "metadata": {},
   "outputs": [
    {
     "name": "stdout",
     "output_type": "stream",
     "text": [
      "[ 1  2  3  4  5  6  7  8  9 10]\n",
      "[False False False False False  True  True  True  True  True]\n",
      "[ 6  7  8  9 10]\n",
      "[1 2 3 4]\n",
      "[5]\n",
      "[ 1  2  3  4  6  7  8  9 10]\n",
      "[ 5  6  7  8  9 10]\n"
     ]
    }
   ],
   "source": [
    "# Logical operations\n",
    "a = np.array([1, 2, 3,4,5,6,7,8,9,10])\n",
    "print(a)\n",
    "print(a > 5) # greater than\n",
    "print(a[a > 5]) # greater than\n",
    "print(a[a < 5]) # less than\n",
    "print(a[a == 5]) # equal to\n",
    "print(a[a != 5]) # not equal to\n",
    "print(a[a >= 5]) # greater than or equal to\n"
   ]
  },
  {
   "cell_type": "code",
   "execution_count": 21,
   "metadata": {},
   "outputs": [
    {
     "name": "stdout",
     "output_type": "stream",
     "text": [
      "[ 1  2  3  4  5  6  7  8  9 10]\n",
      "[5 6 7 8]\n"
     ]
    }
   ],
   "source": [
    "print(a[(a >= 5) | (a <= 8)]) # greater than or equal to 5 or less than or equal to 8\n",
    "print(a[(a >= 5) & (a <= 8)]) # greater than or equal to 5 and less than or equal to 8"
   ]
  }
 ],
 "metadata": {
  "kernelspec": {
   "display_name": "Python 3",
   "language": "python",
   "name": "python3"
  },
  "language_info": {
   "codemirror_mode": {
    "name": "ipython",
    "version": 3
   },
   "file_extension": ".py",
   "mimetype": "text/x-python",
   "name": "python",
   "nbconvert_exporter": "python",
   "pygments_lexer": "ipython3",
   "version": "3.12.4"
  }
 },
 "nbformat": 4,
 "nbformat_minor": 2
}
